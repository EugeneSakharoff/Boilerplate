{
 "cells": [
  {
   "cell_type": "markdown",
   "id": "ece52695",
   "metadata": {},
   "source": [
    "## parity check"
   ]
  },
  {
   "cell_type": "code",
   "execution_count": 57,
   "id": "7545647b",
   "metadata": {},
   "outputs": [],
   "source": [
    "# Fastest way to check, if number is even\n",
    "def isEven(value):\n",
    "    return not(value & 1)\n"
   ]
  },
  {
   "cell_type": "markdown",
   "id": "594f4a30",
   "metadata": {},
   "source": [
    "## Ring Buffer"
   ]
  },
  {
   "cell_type": "code",
   "execution_count": 128,
   "id": "aa53d44a",
   "metadata": {},
   "outputs": [],
   "source": [
    "# Ring Buffer\n",
    "class RingBuffer:\n",
    "    def __init__(self,size):\n",
    "        self._data = bytearray(size) \n",
    "        self.head = 0                \n",
    "        self.tail = 0                \n",
    "        self.flgEmpty=True           \n",
    "        self.flgFull=False           \n",
    "        \n",
    "\n",
    "    def _push(self,value):\n",
    "        if isinstance(value,str):\n",
    "            value =  ord(value) \n",
    "        try:\n",
    "            if value//256>0:   \n",
    "                self._push(value%256)\n",
    "                value = value//256\n",
    "                \n",
    "            self._data[self.head]=value\n",
    "            self.head=(self.head+1)%len(self._data)\n",
    "            if self.head==self.tail:\n",
    "                self.flgFull=True\n",
    "            if self.flgFull:\n",
    "                self.tail=self.head\n",
    "            self.flgEmpty=False\n",
    "        except (ValueError):\n",
    "            print(\"Value error, value must be byte\")\n",
    "            \n",
    "\n",
    "    def push(self,*args):    \n",
    "        for values in args:\n",
    "            try:\n",
    "                for value in values:\n",
    "                    self._push(value)\n",
    "            except (TypeError):\n",
    "                self._push(values)\n",
    "     \n",
    "    def _pop(self):\n",
    "        if (not(self.flgFull) and (self.head==self.tail)): #если буффер опустошен\n",
    "            self.flagEmpty=True\n",
    "            return 256\n",
    "        tmp = self.tail\n",
    "        self.tail=(self.tail+1)%len(self._data) #сдвигаем указатель чтения\n",
    "        self.flgFull=False\n",
    "        return self._data[tmp]  \n",
    "    \n",
    "\n",
    "    def pop(self,size):\n",
    "        res = []\n",
    "        if(size>0):\n",
    "            for i in range(size):\n",
    "                res.append(self._pop())\n",
    "                if res[-1]==256:\n",
    "                    print(\"Extracted {} byte(s), then buffer got empty\".format(i))\n",
    "                    res.pop()\n",
    "                    break\n",
    "            return res\n",
    "        else:\n",
    "            print(\"Size must be>0\")\n",
    "        \n",
    "\n",
    "    def __repr__(self):\n",
    "        res = ''\n",
    "        for i in range(len(self._data)):\n",
    "            res+=\"  {}  \".format(self._data[i].__repr__())\n",
    "        return res\n",
    "    "
   ]
  },
  {
   "cell_type": "code",
   "execution_count": 129,
   "id": "33cfe869",
   "metadata": {},
   "outputs": [
    {
     "name": "stdout",
     "output_type": "stream",
     "text": [
      "  2    98    99    0    1  \n",
      "[98, 99]\n"
     ]
    }
   ],
   "source": [
    "b = RingBuffer(5)\n",
    "b.push('abc',0,[1,2])\n",
    "print(b)\n",
    "print(b.pop(2))"
   ]
  },
  {
   "cell_type": "markdown",
   "id": "8f5d9b75",
   "metadata": {},
   "source": [
    "## Sorting"
   ]
  },
  {
   "cell_type": "code",
   "execution_count": 261,
   "id": "f8f5cba7",
   "metadata": {},
   "outputs": [],
   "source": [
    "def test(func,sample):\n",
    "    import time\n",
    "    start=time.time()\n",
    "    func(sample)\n",
    "    end=time.time()\n",
    "    print(end-start)\n",
    "    \n",
    "\n",
    "def generate_sample(N):\n",
    "    from random import randint\n",
    "    return [randint(1, 99) for _ in range(N)]\n",
    "\n",
    "\n",
    "def BubbleSort(a):\n",
    "    n = len(a)\n",
    "    for i in range(n-1):\n",
    "        for j in range(0, n-i-1):\n",
    "            if a[j] > a[j + 1] :\n",
    "                a[j], a[j + 1] = a[j + 1], a[j]\n",
    "\n",
    "def ShakerSort(a): \n",
    "    upper = len(a) - 1\n",
    "    lower = 0\n",
    "    no_swap = False\n",
    "    while (not no_swap and upper - lower > 1):\n",
    "        no_swap = True\n",
    "        for j in range(lower, upper):\n",
    "            if a[j + 1] < a[j]:\n",
    "                a[j + 1], a[j] = a[j], a[j + 1]\n",
    "                no_swap = False\n",
    "        upper = upper - 1\n",
    "        for j in range(upper, lower, -1):\n",
    "            if a[j - 1] > a[j]:\n",
    "                a[j - 1], a[j] = a[j], a[j - 1]\n",
    "                no_swap = False\n",
    "        lower = lower + 1\n",
    "    return a\n",
    "    \n",
    "def InsertionSort(a):\n",
    "    for i in range(len(a)):\n",
    "        x = a[i];\n",
    "        j = i;\n",
    "        while (j > 0 and a[j - 1] > x):\n",
    "            a[j] = a[j - 1];\n",
    "            j-=1\n",
    "        a[j] = x;\n",
    "    return a\n",
    "\n",
    "def QuickSort(a):\n",
    "    def partition(a, low, high):\n",
    "        i = (low-1)        \n",
    "        pivot = a[high]    \n",
    "        for j in range(low, high):\n",
    "            if a[j] <= pivot:\n",
    "                i = i+1\n",
    "                a[i], a[j] = a[j], a[i]\n",
    "        a[i+1], a[high] = a[high], a[i+1]\n",
    "        return (i+1)\n",
    "    \n",
    "    def quickSort(a, low, high):\n",
    "        if len(a) == 1:\n",
    "            return a\n",
    "        if low < high:\n",
    "            pi = partition(a, low, high)\n",
    "            quickSort(a, low, pi-1)\n",
    "            quickSort(a, pi+1, high)\n",
    "        return a\n",
    "    \n",
    "    return quickSort(a,0,len(a)-1)\n",
    "\n",
    "def MergeSort(a):\n",
    "    if len(a) > 1:\n",
    "        mid = len(a)//2\n",
    "        L = a[:mid]\n",
    "        R = a[mid:]\n",
    "        mergeSort(L)\n",
    "        mergeSort(R)\n",
    "        i = j = k = 0\n",
    "        while i < len(L) and j < len(R):\n",
    "            if L[i] < R[j]:\n",
    "                a[k] = L[i]\n",
    "                i += 1\n",
    "            else:\n",
    "                a[k] = R[j]\n",
    "                j += 1\n",
    "            k += 1\n",
    "        while i < len(L):\n",
    "            a[k] = L[i]\n",
    "            i += 1\n",
    "            k += 1\n",
    "        while j < len(R):\n",
    "            a[k] = R[j]\n",
    "            j += 1\n",
    "            k += 1\n",
    "    return a"
   ]
  },
  {
   "cell_type": "code",
   "execution_count": 262,
   "id": "2409e9c3",
   "metadata": {},
   "outputs": [
    {
     "name": "stdout",
     "output_type": "stream",
     "text": [
      "7.904202222824097\n",
      "6.756250619888306\n",
      "4.589479684829712\n",
      "0.09378480911254883\n",
      "0.04687213897705078\n",
      "0.0\n"
     ]
    }
   ],
   "source": [
    "funcs = [BubbleSort,ShakerSort,InsertionSort,QuickSort,MergeSort,sorted]\n",
    "orig_sample = generate_sample(10000)\n",
    "for func in funcs:\n",
    "    sample = orig_sample.copy()\n",
    "    test(func,sample)"
   ]
  },
  {
   "cell_type": "markdown",
   "id": "aa163119",
   "metadata": {},
   "source": [
    "## Fibonacci"
   ]
  },
  {
   "cell_type": "code",
   "execution_count": 26,
   "id": "6ec64187",
   "metadata": {},
   "outputs": [],
   "source": [
    "from math import sqrt\n",
    "from functools import reduce\n",
    "\n",
    "def fibonacci_closed_form(n):\n",
    "    return int((((1+sqrt(5))/2)**n - ((1-sqrt(5))/2)**n)/sqrt(5))\n",
    "\n",
    "def fibonacci(n):\n",
    "    return list([reduce(lambda seq,length: [seq[1],seq[0]+seq[1]],range(length), [1, 1])[0] for length in range(n)])\n",
    "\n",
    "# only even numbers\n",
    "def even_fibonacci(n):\n",
    "    res=[0,2,8]\n",
    "    while len(res)<n:\n",
    "        res.append(res[-1]*4+res[-2])\n",
    "    return res[:n]"
   ]
  },
  {
   "cell_type": "code",
   "execution_count": 27,
   "id": "ee4458ce",
   "metadata": {},
   "outputs": [
    {
     "data": {
      "text/plain": [
       "[1, 1, 2, 3, 5]"
      ]
     },
     "execution_count": 27,
     "metadata": {},
     "output_type": "execute_result"
    }
   ],
   "source": [
    "fibonacci(5)"
   ]
  },
  {
   "cell_type": "code",
   "execution_count": null,
   "id": "5d81d8b5",
   "metadata": {},
   "outputs": [],
   "source": []
  }
 ],
 "metadata": {
  "kernelspec": {
   "display_name": "Python 3 (ipykernel)",
   "language": "python",
   "name": "python3"
  },
  "language_info": {
   "codemirror_mode": {
    "name": "ipython",
    "version": 3
   },
   "file_extension": ".py",
   "mimetype": "text/x-python",
   "name": "python",
   "nbconvert_exporter": "python",
   "pygments_lexer": "ipython3",
   "version": "3.9.12"
  }
 },
 "nbformat": 4,
 "nbformat_minor": 5
}
